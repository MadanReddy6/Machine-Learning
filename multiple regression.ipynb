{
 "cells": [
  {
   "cell_type": "code",
   "execution_count": 14,
   "metadata": {},
   "outputs": [],
   "source": [
    "import pandas as pd\n",
    "import numpy as np\n",
    "import matplotlib.pyplot as plt\n",
    "from tqdm import tqdm"
   ]
  },
  {
   "cell_type": "code",
   "execution_count": 18,
   "metadata": {},
   "outputs": [
    {
     "data": {
      "text/html": [
       "<div>\n",
       "<style scoped>\n",
       "    .dataframe tbody tr th:only-of-type {\n",
       "        vertical-align: middle;\n",
       "    }\n",
       "\n",
       "    .dataframe tbody tr th {\n",
       "        vertical-align: top;\n",
       "    }\n",
       "\n",
       "    .dataframe thead th {\n",
       "        text-align: right;\n",
       "    }\n",
       "</style>\n",
       "<table border=\"1\" class=\"dataframe\">\n",
       "  <thead>\n",
       "    <tr style=\"text-align: right;\">\n",
       "      <th></th>\n",
       "      <th>price</th>\n",
       "      <th>grade</th>\n",
       "    </tr>\n",
       "  </thead>\n",
       "  <tbody>\n",
       "    <tr>\n",
       "      <th>count</th>\n",
       "      <td>2.161300e+04</td>\n",
       "      <td>2.161300e+04</td>\n",
       "    </tr>\n",
       "    <tr>\n",
       "      <th>mean</th>\n",
       "      <td>-3.419074e-17</td>\n",
       "      <td>1.788439e-16</td>\n",
       "    </tr>\n",
       "    <tr>\n",
       "      <th>std</th>\n",
       "      <td>1.000000e+00</td>\n",
       "      <td>1.000000e+00</td>\n",
       "    </tr>\n",
       "    <tr>\n",
       "      <th>min</th>\n",
       "      <td>-1.266831e+00</td>\n",
       "      <td>-5.663213e+00</td>\n",
       "    </tr>\n",
       "    <tr>\n",
       "      <th>25%</th>\n",
       "      <td>-5.941759e-01</td>\n",
       "      <td>-5.588228e-01</td>\n",
       "    </tr>\n",
       "    <tr>\n",
       "      <th>50%</th>\n",
       "      <td>-2.453867e-01</td>\n",
       "      <td>-5.588228e-01</td>\n",
       "    </tr>\n",
       "    <tr>\n",
       "      <th>75%</th>\n",
       "      <td>2.857643e-01</td>\n",
       "      <td>2.919089e-01</td>\n",
       "    </tr>\n",
       "    <tr>\n",
       "      <th>max</th>\n",
       "      <td>1.950254e+01</td>\n",
       "      <td>4.545567e+00</td>\n",
       "    </tr>\n",
       "  </tbody>\n",
       "</table>\n",
       "</div>"
      ],
      "text/plain": [
       "              price         grade\n",
       "count  2.161300e+04  2.161300e+04\n",
       "mean  -3.419074e-17  1.788439e-16\n",
       "std    1.000000e+00  1.000000e+00\n",
       "min   -1.266831e+00 -5.663213e+00\n",
       "25%   -5.941759e-01 -5.588228e-01\n",
       "50%   -2.453867e-01 -5.588228e-01\n",
       "75%    2.857643e-01  2.919089e-01\n",
       "max    1.950254e+01  4.545567e+00"
      ]
     },
     "execution_count": 18,
     "metadata": {},
     "output_type": "execute_result"
    }
   ],
   "source": [
    "df = pd.read_csv('kc_house_data.csv')\n",
    "df.describe()\n",
    "\n",
    "n = len(df)\n",
    "inputs = df.drop([\"id\",\"date\",\"zipcode\",\"lat\",\"long\",\"sqft_living15\",\"sqft_lot15\"], axis = 1, inplace= True)\n",
    "\n",
    "targets = df[[\"price\",\"grade\"]]\n",
    "\n",
    "inputs=df.drop([\"price\",\"grade\"],axis = 1 , inplace= True)\n",
    "df\n",
    "\n",
    "org_mean, org_std = targets.mean(), targets.std()\n",
    "\n",
    "targets = targets - targets.mean()\n",
    "targets = targets/ targets.std()\n",
    "\n",
    "targets.describe()"
   ]
  },
  {
   "cell_type": "code",
   "execution_count": 3,
   "metadata": {},
   "outputs": [],
   "source": [
    "x = df[[\"sqft_living\", \"sqft_lot\"]]\n",
    "\n",
    "df[[\"sqft_living\",\"sqft_lot\"]] = (x-x.mean())/x.std()"
   ]
  },
  {
   "cell_type": "code",
   "execution_count": 4,
   "metadata": {},
   "outputs": [],
   "source": [
    "weights = np.random.random(size = (2,12))\n",
    "bias = np.random.random(size=(1,2))"
   ]
  },
  {
   "cell_type": "code",
   "execution_count": 5,
   "metadata": {},
   "outputs": [
    {
     "name": "stdout",
     "output_type": "stream",
     "text": [
      "Predictions shape: (21613, 2)\n",
      "[[3.78185726 5.01211873]\n",
      " [2.48372517 2.77778033]\n",
      " [2.94135164 4.2111715 ]\n",
      " ...\n",
      " [3.22555442 5.34183   ]\n",
      " [3.07670109 4.03900085]\n",
      " [4.10586667 5.22110877]]\n"
     ]
    }
   ],
   "source": [
    "# make a preditcion matrix using the matrix operations with weights and bias\n",
    "\n",
    "X = np.random.rand( n, 12) \n",
    "weights = np.random.random(size=(12, 2))  \n",
    "\n",
    "\n",
    "bias = np.random.random(size=(1, 2)) \n",
    "\n",
    "predictions = np.dot(X, weights) \n",
    "\n",
    "\n",
    "predictions = predictions + bias  \n",
    "\n",
    "print(\"Predictions shape:\", predictions.shape)\n",
    "print(predictions)\n"
   ]
  },
  {
   "cell_type": "code",
   "execution_count": 6,
   "metadata": {},
   "outputs": [
    {
     "name": "stdout",
     "output_type": "stream",
     "text": [
      "166834.25135515592\n"
     ]
    }
   ],
   "source": [
    "# measure the loss using pandas methods\n",
    "\n",
    "df['actual_price'] = np.random.rand(21613)  * 1000\n",
    "\n",
    "predicted_prices = np.random.rand(21613) * 1000\n",
    "\n",
    "df['predicted_price'] = predicted_prices\n",
    "\n",
    "# Calculate the Mean Squared Error (MSE)\n",
    "df['error'] = df['actual_price'] - df['predicted_price']\n",
    "df['squared_error'] = df['error'] ** 2\n",
    "mse = df['squared_error'].mean()\n",
    "\n",
    "print( mse)\n"
   ]
  },
  {
   "cell_type": "code",
   "execution_count": 16,
   "metadata": {},
   "outputs": [],
   "source": [
    "def predict(x, weights, bias):\n",
    "    pred = np.dot(x, weights.T) + bias\n",
    "\n",
    "    predictions_df = pd.DataFrame(pred, columns=[\"price\", \"grade\"])\n",
    "\n",
    "    return predictions_df\n",
    "\n",
    "\n",
    "def b_gradient(targets, predictions):\n",
    "    grad = np.zeros((1,2))\n",
    "    \n",
    "    for i, y in enumerate(targets.columns):\n",
    "        grad[0, i] = (-2 * (targets[y] - predictions[y])).mean()\n",
    "        \n",
    "    return grad"
   ]
  },
  {
   "cell_type": "code",
   "execution_count": null,
   "metadata": {},
   "outputs": [],
   "source": [
    "history = []"
   ]
  },
  {
   "cell_type": "code",
   "execution_count": 19,
   "metadata": {},
   "outputs": [
    {
     "name": "stderr",
     "output_type": "stream",
     "text": [
      "  0%|          | 0/10000 [00:00<?, ?it/s]\n"
     ]
    },
    {
     "ename": "TypeError",
     "evalue": "unsupported operand type(s) for *: 'NoneType' and 'float'",
     "output_type": "error",
     "traceback": [
      "\u001b[1;31m---------------------------------------------------------------------------\u001b[0m",
      "\u001b[1;31mTypeError\u001b[0m                                 Traceback (most recent call last)",
      "Cell \u001b[1;32mIn[19], line 7\u001b[0m\n\u001b[0;32m      1\u001b[0m lr \u001b[38;5;241m=\u001b[39m \u001b[38;5;241m0.001\u001b[39m\n\u001b[0;32m      4\u001b[0m \u001b[38;5;28;01mfor\u001b[39;00m i \u001b[38;5;129;01min\u001b[39;00m tqdm(\u001b[38;5;28mrange\u001b[39m(\u001b[38;5;241m10000\u001b[39m)):\n\u001b[0;32m      5\u001b[0m     \n\u001b[0;32m      6\u001b[0m     \u001b[38;5;66;03m# make a prediction\u001b[39;00m\n\u001b[1;32m----> 7\u001b[0m     prediction \u001b[38;5;241m=\u001b[39m \u001b[43mpredict\u001b[49m\u001b[43m(\u001b[49m\u001b[43minputs\u001b[49m\u001b[43m,\u001b[49m\u001b[43m \u001b[49m\u001b[43mweights\u001b[49m\u001b[43m,\u001b[49m\u001b[43m \u001b[49m\u001b[43mbias\u001b[49m\u001b[43m)\u001b[49m\n\u001b[0;32m      9\u001b[0m     \u001b[38;5;66;03m# calculate and print the loss\u001b[39;00m\n\u001b[0;32m     10\u001b[0m     loss \u001b[38;5;241m=\u001b[39m mean_squared_error(targets, prediction)\n",
      "Cell \u001b[1;32mIn[16], line 2\u001b[0m, in \u001b[0;36mpredict\u001b[1;34m(x, weights, bias)\u001b[0m\n\u001b[0;32m      1\u001b[0m \u001b[38;5;28;01mdef\u001b[39;00m \u001b[38;5;21mpredict\u001b[39m(x, weights, bias):\n\u001b[1;32m----> 2\u001b[0m     pred \u001b[38;5;241m=\u001b[39m \u001b[43mnp\u001b[49m\u001b[38;5;241;43m.\u001b[39;49m\u001b[43mdot\u001b[49m\u001b[43m(\u001b[49m\u001b[43mx\u001b[49m\u001b[43m,\u001b[49m\u001b[43m \u001b[49m\u001b[43mweights\u001b[49m\u001b[38;5;241;43m.\u001b[39;49m\u001b[43mT\u001b[49m\u001b[43m)\u001b[49m \u001b[38;5;241m+\u001b[39m bias\n\u001b[0;32m      4\u001b[0m     predictions_df \u001b[38;5;241m=\u001b[39m pd\u001b[38;5;241m.\u001b[39mDataFrame(pred, columns\u001b[38;5;241m=\u001b[39m[\u001b[38;5;124m\"\u001b[39m\u001b[38;5;124mprice\u001b[39m\u001b[38;5;124m\"\u001b[39m, \u001b[38;5;124m\"\u001b[39m\u001b[38;5;124mgrade\u001b[39m\u001b[38;5;124m\"\u001b[39m])\n\u001b[0;32m      6\u001b[0m     \u001b[38;5;28;01mreturn\u001b[39;00m predictions_df\n",
      "\u001b[1;31mTypeError\u001b[0m: unsupported operand type(s) for *: 'NoneType' and 'float'"
     ]
    }
   ],
   "source": [
    "lr = 0.001\n",
    "\n",
    "\n",
    "for i in tqdm(range(10000)):\n",
    "    \n",
    "    # make a prediction\n",
    "    prediction = predict(inputs, weights, bias)\n",
    "    \n",
    "    # calculate and print the loss\n",
    "    loss = mean_squared_error(targets, prediction)\n",
    "        \n",
    "    # calculate gradients\n",
    "    w_grad = w_gradient(inputs, targets, prediction)\n",
    "    \n",
    "    b_grad = b_gradient(targets,prediction)\n",
    "    \n",
    "    weights = weights - lr * w_grad\n",
    "    bias = bias - lr * b_grad\n",
    "    \n",
    "    history.append({\"Price\":loss[\"price\"], \"Grade\":loss[\"grade\"]})\n",
    "    \n",
    "    # if (i+1)%100 == 0:\n",
    "    #     print(loss)\n",
    "    # update weights and biases using the gradients\n",
    "    \n",
    "    \n",
    "# output the least loss u could get, tweak the learning rate if u want  "
   ]
  }
 ],
 "metadata": {
  "kernelspec": {
   "display_name": "Python 3",
   "language": "python",
   "name": "python3"
  },
  "language_info": {
   "codemirror_mode": {
    "name": "ipython",
    "version": 3
   },
   "file_extension": ".py",
   "mimetype": "text/x-python",
   "name": "python",
   "nbconvert_exporter": "python",
   "pygments_lexer": "ipython3",
   "version": "3.9.0"
  }
 },
 "nbformat": 4,
 "nbformat_minor": 2
}
